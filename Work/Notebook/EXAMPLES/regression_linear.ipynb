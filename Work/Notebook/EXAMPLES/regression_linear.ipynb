{
 "cells": [
  {
   "cell_type": "code",
   "execution_count": 2,
   "id": "b328d219-47a5-4563-bca2-b444259ee9f2",
   "metadata": {},
   "outputs": [],
   "source": [
    "import numpy as np\n",
    "import pandas as pd\n",
    "import statsmodels.api as sm\n",
    "import matplotlib.pyplot as plt\n",
    "\n",
    "# Génération des données\n",
    "np.random.seed(42)  # Pour la reproductibilité\n",
    "n_points = 100\n",
    "x = np.linspace(0, 100, n_points)  # Dépenses publicitaires\n",
    "y = 50 + 2 * x + 10 * np.sin(x / 5) + np.random.normal(0, 10, n_points)  # Ventes avec variation sinus\n",
    "\n",
    "# Création du DataFrame\n",
    "sales = pd.DataFrame({'Dépenses_publicitaires': x, 'Ventes': y})"
   ]
  },
  {
   "cell_type": "code",
   "execution_count": 3,
   "id": "4a22b448-a27d-478f-8a7a-044f1745dc33",
   "metadata": {},
   "outputs": [
    {
     "data": {
      "text/html": [
       "<div>\n",
       "<style scoped>\n",
       "    .dataframe tbody tr th:only-of-type {\n",
       "        vertical-align: middle;\n",
       "    }\n",
       "\n",
       "    .dataframe tbody tr th {\n",
       "        vertical-align: top;\n",
       "    }\n",
       "\n",
       "    .dataframe thead th {\n",
       "        text-align: right;\n",
       "    }\n",
       "</style>\n",
       "<table border=\"1\" class=\"dataframe\">\n",
       "  <thead>\n",
       "    <tr style=\"text-align: right;\">\n",
       "      <th></th>\n",
       "      <th>Dépenses_publicitaires</th>\n",
       "      <th>Ventes</th>\n",
       "    </tr>\n",
       "  </thead>\n",
       "  <tbody>\n",
       "    <tr>\n",
       "      <th>0</th>\n",
       "      <td>0.000000</td>\n",
       "      <td>54.967142</td>\n",
       "    </tr>\n",
       "    <tr>\n",
       "      <th>1</th>\n",
       "      <td>1.010101</td>\n",
       "      <td>52.644048</td>\n",
       "    </tr>\n",
       "    <tr>\n",
       "      <th>2</th>\n",
       "      <td>2.020202</td>\n",
       "      <td>64.448656</td>\n",
       "    </tr>\n",
       "    <tr>\n",
       "      <th>3</th>\n",
       "      <td>3.030303</td>\n",
       "      <td>76.987246</td>\n",
       "    </tr>\n",
       "    <tr>\n",
       "      <th>4</th>\n",
       "      <td>4.040404</td>\n",
       "      <td>62.968900</td>\n",
       "    </tr>\n",
       "  </tbody>\n",
       "</table>\n",
       "</div>"
      ],
      "text/plain": [
       "   Dépenses_publicitaires     Ventes\n",
       "0                0.000000  54.967142\n",
       "1                1.010101  52.644048\n",
       "2                2.020202  64.448656\n",
       "3                3.030303  76.987246\n",
       "4                4.040404  62.968900"
      ]
     },
     "execution_count": 3,
     "metadata": {},
     "output_type": "execute_result"
    }
   ],
   "source": [
    "sales.head()"
   ]
  },
  {
   "cell_type": "code",
   "execution_count": 5,
   "id": "03c74937-895e-439d-a11d-b37a51a46a83",
   "metadata": {},
   "outputs": [],
   "source": [
    "# y = ax+b, x est indépendant et y dépend de x, modèle predictif c'est une droite \n",
    "# h , y df = pd.DataFrame( { 'heures_cours_pandas' : h , nombre_de_cheveux' : y } )  y = ah + b "
   ]
  },
  {
   "cell_type": "code",
   "execution_count": 8,
   "id": "c2275e21-3ba0-428c-8be5-f1fd9bb9b1d9",
   "metadata": {},
   "outputs": [
    {
     "name": "stdout",
     "output_type": "stream",
     "text": [
      "                            OLS Regression Results                            \n",
      "==============================================================================\n",
      "Dep. Variable:                 Ventes   R-squared:                       0.961\n",
      "Model:                            OLS   Adj. R-squared:                  0.961\n",
      "Method:                 Least Squares   F-statistic:                     2428.\n",
      "Date:                Wed, 10 Jul 2024   Prob (F-statistic):           5.84e-71\n",
      "Time:                        11:52:15   Log-Likelihood:                -386.90\n",
      "No. Observations:                 100   AIC:                             777.8\n",
      "Df Residuals:                      98   BIC:                             783.0\n",
      "Df Model:                           1                                         \n",
      "Covariance Type:            nonrobust                                         \n",
      "==========================================================================================\n",
      "                             coef    std err          t      P>|t|      [0.025      0.975]\n",
      "------------------------------------------------------------------------------------------\n",
      "const                     50.3846      2.324     21.681      0.000      45.773      54.996\n",
      "Dépenses_publicitaires     1.9783      0.040     49.272      0.000       1.899       2.058\n",
      "==============================================================================\n",
      "Omnibus:                        3.152   Durbin-Watson:                   1.254\n",
      "Prob(Omnibus):                  0.207   Jarque-Bera (JB):                2.068\n",
      "Skew:                           0.138   Prob(JB):                        0.356\n",
      "Kurtosis:                       2.352   Cond. No.                         115.\n",
      "==============================================================================\n",
      "\n",
      "Notes:\n",
      "[1] Standard Errors assume that the covariance matrix of the errors is correctly specified.\n",
      "Interception (constante): 50.384570648549655\n",
      "Coefficient de la variable indépendante (slope): 1.978292272922499\n",
      "Équation de la droite de régression: Y = 1.98X + 50.38\n"
     ]
    }
   ],
   "source": [
    "import statsmodels.api as sm\n",
    "\n",
    "# Variables dépendante (Y) et indépendante (X)\n",
    "X = sales['Dépenses_publicitaires']  # Variable indépendante\n",
    "y = sales['Ventes']                   # Variable dépendante\n",
    "\n",
    "# Ajout d'une constante à X pour le terme d'interception - obligatoire pour construire le modèle Y = AX + B \n",
    "X = sm.add_constant(X)\n",
    "\n",
    "# Création du modèle de régression linéaire\n",
    "model = sm.OLS(y, X)\n",
    "\n",
    "# Ajustement du modèle aux données\n",
    "results = model.fit()\n",
    "\n",
    "# Afficher les résultats de la régression\n",
    "print(results.summary())\n",
    "\n",
    "# Obtenir les paramètres de la régression\n",
    "intercept = results.params['const']\n",
    "slope = results.params['Dépenses_publicitaires']\n",
    "\n",
    "print(f\"Interception (constante): {intercept}\")\n",
    "print(f\"Coefficient de la variable indépendante (slope): {slope}\")\n",
    "\n",
    "# Construire l'équation de la droite\n",
    "equation = f\"Y = {slope:.2f}X + {intercept:.2f}\"\n",
    "print(f\"Équation de la droite de régression: {equation}\")"
   ]
  },
  {
   "cell_type": "code",
   "execution_count": 7,
   "id": "b3d5a6b2-f4f4-4962-a77e-1bb4f381a55f",
   "metadata": {},
   "outputs": [
    {
     "data": {
      "image/png": "[encoded data removed]",
      "text/plain": [
       "<Figure size 640x480 with 1 Axes>"
      ]
     },
     "metadata": {},
     "output_type": "display_data"
    }
   ],
   "source": [
    "plt.scatter(sales['Dépenses_publicitaires'], sales['Ventes'], label='Données observées')\n",
    "plt.plot(sales['Dépenses_publicitaires'], results.fittedvalues, color='red', label='Ligne de régression')\n",
    "plt.xlabel('Dépenses publicitaires')\n",
    "plt.ylabel('Ventes')\n",
    "plt.title('Régression linéaire des ventes en fonction des dépenses publicitaires')\n",
    "plt.legend()\n",
    "plt.show()"
   ]
  },
  {
   "cell_type": "code",
   "execution_count": 9,
   "id": "b694f3c8-3e64-4054-ad36-3821fdbfd2fe",
   "metadata": {},
   "outputs": [
    {
     "name": "stdout",
     "output_type": "stream",
     "text": [
      "P-values des coefficients :\n",
      "const                     3.548822e-39\n",
      "Dépenses_publicitaires    5.839428e-71\n",
      "dtype: float64\n"
     ]
    }
   ],
   "source": [
    "p_values = results.pvalues\n",
    "print(\"P-values des coefficients :\")\n",
    "print(p_values)"
   ]
  },
  {
   "cell_type": "code",
   "execution_count": 10,
   "id": "022be99e-0000-446f-a7e8-8702011dcdb3",
   "metadata": {},
   "outputs": [
    {
     "name": "stdout",
     "output_type": "stream",
     "text": [
      "Intervalles de confiance pour les coefficients:\n",
      "                                0          1\n",
      "const                   45.772845  54.996296\n",
      "Dépenses_publicitaires   1.898616   2.057969\n"
     ]
    }
   ],
   "source": [
    "# Obtenir les intervalles de confiance pour les coefficients\n",
    "confidence_intervals = results.conf_int()\n",
    "print(\"Intervalles de confiance pour les coefficients:\")\n",
    "print(confidence_intervals)"
   ]
  },
  {
   "cell_type": "code",
   "execution_count": 11,
   "id": "dd97273f-495f-426b-8054-73f426085321",
   "metadata": {},
   "outputs": [
    {
     "name": "stdout",
     "output_type": "stream",
     "text": [
      "Intervalle de confiance pour l'interception (constante): [45.77, 55.00]\n",
      "Intervalle de confiance pour le coefficient de la variable indépendante (slope): [1.90, 2.06]\n"
     ]
    }
   ],
   "source": [
    "# Extraire les intervalles de confiance pour chaque coefficient\n",
    "ci_intercept = confidence_intervals.loc['const']\n",
    "ci_slope = confidence_intervals.loc['Dépenses_publicitaires']\n",
    "\n",
    "print(f\"Intervalle de confiance pour l'interception (constante): [{ci_intercept[0]:.2f}, {ci_intercept[1]:.2f}]\")\n",
    "print(f\"Intervalle de confiance pour le coefficient de la variable indépendante (slope): [{ci_slope[0]:.2f}, {ci_slope[1]:.2f}]\")"
   ]
  },
  {
   "cell_type": "code",
   "execution_count": null,
   "id": "b31878ee-29c5-4397-9dde-9fa9182ed093",
   "metadata": {},
   "outputs": [],
   "source": []
  }
 ],
 "metadata": {
  "kernelspec": {
   "display_name": "Python 3 (ipykernel)",
   "language": "python",
   "name": "python3"
  },
  "language_info": {
   "codemirror_mode": {
    "name": "ipython",
    "version": 3
   },
   "file_extension": ".py",
   "mimetype": "text/x-python",
   "name": "python",
   "nbconvert_exporter": "python",
   "pygments_lexer": "ipython3",
   "version": "3.11.9"
  }
 },
 "nbformat": 4,
 "nbformat_minor": 5
}
