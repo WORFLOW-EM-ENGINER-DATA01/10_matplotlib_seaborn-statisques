{
 "cells": [
  {
   "cell_type": "code",
   "execution_count": 1,
   "id": "2fda5b97-5ae7-4dba-ae57-d4fc5577efe4",
   "metadata": {},
   "outputs": [
    {
     "name": "stdout",
     "output_type": "stream",
     "text": [
      "Covariance entre Dépenses_publicitaires et Ventes : 900.0\n"
     ]
    }
   ],
   "source": [
    "import pandas as pd\n",
    "\n",
    "# Exemple de données : ventes mensuelles et dépenses publicitaires\n",
    "data = {\n",
    "    'Dépenses_publicitaires': [50, 60, 80, 100, 120],\n",
    "    'Ventes': [100, 120, 140, 160, 180]\n",
    "}\n",
    "\n",
    "df = pd.DataFrame(data)\n",
    "\n",
    "# Calculer la covariance entre Dépenses_publicitaires et Ventes\n",
    "covariance = df['Dépenses_publicitaires'].cov(df['Ventes'])\n",
    "\n",
    "print(f\"Covariance entre Dépenses_publicitaires et Ventes : {covariance}\")"
   ]
  },
  {
   "cell_type": "code",
   "execution_count": 2,
   "id": "3792f115-ea8b-42c9-af43-abc2721e6583",
   "metadata": {},
   "outputs": [
    {
     "name": "stdout",
     "output_type": "stream",
     "text": [
      "Covariance entre Dépenses_publicitaires et Ventes : 900.0\n",
      "Écart-type de Dépenses_publicitaires : 28.635642126552707\n",
      "Écart-type de Ventes : 31.622776601683793\n",
      "Coefficient de corrélation : 0.9938837346736189\n"
     ]
    }
   ],
   "source": [
    "# Calculer les écarts types\n",
    "std_dev_x = df['Dépenses_publicitaires'].std()\n",
    "std_dev_y = df['Ventes'].std()\n",
    "\n",
    "# Calculer le coefficient de corrélation\n",
    "correlation = covariance / (std_dev_x * std_dev_y)\n",
    "\n",
    "print(f\"Covariance entre Dépenses_publicitaires et Ventes : {covariance}\")\n",
    "print(f\"Écart-type de Dépenses_publicitaires : {std_dev_x}\")\n",
    "print(f\"Écart-type de Ventes : {std_dev_y}\")\n",
    "print(f\"Coefficient de corrélation : {correlation}\")"
   ]
  },
  {
   "cell_type": "code",
   "execution_count": 3,
   "id": "6d1d089a-09bc-40b7-b56f-d4b45e8b276a",
   "metadata": {},
   "outputs": [
    {
     "name": "stdout",
     "output_type": "stream",
     "text": [
      "Coefficient : 1.8584329782548412\n",
      "Interception : -7.101443369602455\n"
     ]
    }
   ],
   "source": [
    "# Import des bibliothèques nécessaires\n",
    "import pandas as pd\n",
    "from sklearn.linear_model import LinearRegression\n",
    "from sklearn.datasets import load_iris\n",
    "\n",
    "# Chargement du jeu de données des iris\n",
    "iris = load_iris()\n",
    "iris_df = pd.DataFrame(data=iris.data, columns=iris.feature_names)\n",
    "iris_df['target'] = iris.target\n",
    "\n",
    "# Sélection des variables explicative (X) et cible (y)\n",
    "X = iris_df[['sepal length (cm)']].values  # Longueur des sépales comme variable explicative (indépendante)\n",
    "y = iris_df['petal length (cm)'].values    # Longueur des pétales comme variable cible (dépendante)\n",
    "\n",
    "# Création et entraînement du modèle de régression linéaire\n",
    "model = LinearRegression()\n",
    "model.fit(X, y)\n",
    "\n",
    "# Affichage des coefficients appris par le modèle\n",
    "print(f\"Coefficient : {model.coef_[0]}\")\n",
    "print(f\"Interception : {model.intercept_}\")"
   ]
  },
  {
   "cell_type": "code",
   "execution_count": null,
   "id": "6a3273de-79f4-4dc0-bacc-5fd1f65d0c7e",
   "metadata": {},
   "outputs": [],
   "source": []
  }
 ],
 "metadata": {
  "kernelspec": {
   "display_name": "Python 3 (ipykernel)",
   "language": "python",
   "name": "python3"
  },
  "language_info": {
   "codemirror_mode": {
    "name": "ipython",
    "version": 3
   },
   "file_extension": ".py",
   "mimetype": "text/x-python",
   "name": "python",
   "nbconvert_exporter": "python",
   "pygments_lexer": "ipython3",
   "version": "3.11.9"
  }
 },
 "nbformat": 4,
 "nbformat_minor": 5
}
